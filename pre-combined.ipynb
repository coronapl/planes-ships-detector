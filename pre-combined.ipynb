{
 "cells": [
  {
   "cell_type": "markdown",
   "id": "a7c3a569",
   "metadata": {},
   "source": [
    "# Combined Dataset Preprocessing\n",
    "\n",
    "To load all the images used in the model, a specific directory structure must be followed to take advantage of some features of Keras.\n",
    "\n",
    "Both datasets can be loaded in two different ways. The first method is to download a JSON file that includes the following fields: data, label, scene_ids, and location lists. The second method is to download all the images. The filename of each image has the following format: {label}_{scene id}_{longitude}_{latitude}.png. For this project, the second method will be used for educational purposes.\n",
    "\n",
    "The goal of the project is to create a simple Convolutional Neural Network that can detect whether a satellite image includes a plane, a ship, or neither. For this reason, the 'scene id', 'longitude,' and 'latitude' features will not be considered for the training of the Neural Network. However, it would be interesting to test in a future project if these attributes can somehow be included in the training to improve the accuracy.\n",
    "\n",
    "Since the images in both datasets have different sizes, the images in 'Ships in Satellite Imagery' will be resized from 80x80 px to 20x20 px, which is the size of the images in 'Planes in Satellite Imagery.'"
   ]
  },
  {
   "cell_type": "code",
   "execution_count": 71,
   "id": "6989108d",
   "metadata": {},
   "outputs": [
    {
     "name": "stdout",
     "output_type": "stream",
     "text": [
      "LICENSE               \u001B[1m\u001B[31mdataset\u001B[m\u001B[m/              requirements.txt\r\n",
      "README.md             model-airplane.ipynb  \u001B[1m\u001B[31mvenv\u001B[m\u001B[m/\r\n",
      "\u001B[1m\u001B[31mcombined-dataset\u001B[m\u001B[m/     pre-airplane.ipynb\r\n",
      "combined-model.ipynb  pre-combined.ipynb\r\n"
     ]
    }
   ],
   "source": [
    "import os\n",
    "%ls"
   ]
  },
  {
   "cell_type": "markdown",
   "id": "474d07cc",
   "metadata": {},
   "source": [
    "## Create Directory Structure\n",
    "\n",
    "The following directory structure will be created to automatically load all the images using Keras:\n",
    "\n",
    "- combined-dataset\n",
    "    - training-data\n",
    "        - class_0\n",
    "        - class_1\n",
    "        - class_2\n",
    "    - test-data\n",
    "        - class_0\n",
    "        - class_1\n",
    "        _ class_2\n",
    "\n",
    "### Meaning of Each Class\n",
    "\n",
    "- class_0 (images without a plane or a ship)\n",
    "- class_1 (images with a plane)\n",
    "- class_2 (images with a ship)"
   ]
  },
  {
   "cell_type": "code",
   "execution_count": 72,
   "id": "ce5a7d32",
   "metadata": {},
   "outputs": [],
   "source": [
    "def make_dir(path):\n",
    "    if not os.path.isdir(path):\n",
    "       os.makedirs(path)"
   ]
  },
  {
   "cell_type": "code",
   "execution_count": 73,
   "id": "5f68659e",
   "metadata": {},
   "outputs": [],
   "source": [
    "make_dir('./combined-dataset/training-data')\n",
    "make_dir('./combined-dataset/training-data/class_0')\n",
    "make_dir('./combined-dataset/training-data/class_1')\n",
    "make_dir('./combined-dataset/training-data/class_2')\n",
    "make_dir('./combined-dataset/test-data/class_0')\n",
    "make_dir('./combined-dataset/test-data/class_1')\n",
    "make_dir('./combined-dataset/test-data/class_2')"
   ]
  },
  {
   "cell_type": "code",
   "execution_count": 74,
   "id": "3f6ae208",
   "metadata": {},
   "outputs": [
    {
     "name": "stdout",
     "output_type": "stream",
     "text": [
      "\u001B[1m\u001B[31mplanes\u001B[m\u001B[m/        \u001B[1m\u001B[31mships\u001B[m\u001B[m/         \u001B[1m\u001B[31mtest-data\u001B[m\u001B[m/     \u001B[1m\u001B[31mtraining-data\u001B[m\u001B[m/\r\n"
     ]
    }
   ],
   "source": [
    "%ls combined-dataset/"
   ]
  },
  {
   "cell_type": "code",
   "execution_count": 75,
   "id": "0fb728a9",
   "metadata": {},
   "outputs": [
    {
     "name": "stdout",
     "output_type": "stream",
     "text": [
      "\u001B[1m\u001B[31mclass_0\u001B[m\u001B[m/ \u001B[1m\u001B[31mclass_1\u001B[m\u001B[m/ \u001B[1m\u001B[31mclass_2\u001B[m\u001B[m/\r\n"
     ]
    }
   ],
   "source": [
    "%ls combined-dataset/test-data"
   ]
  },
  {
   "cell_type": "code",
   "execution_count": 76,
   "id": "befcfd0d",
   "metadata": {},
   "outputs": [
    {
     "name": "stdout",
     "output_type": "stream",
     "text": [
      "\u001B[1m\u001B[31mclass_0\u001B[m\u001B[m/ \u001B[1m\u001B[31mclass_1\u001B[m\u001B[m/ \u001B[1m\u001B[31mclass_2\u001B[m\u001B[m/\r\n"
     ]
    }
   ],
   "source": [
    "%ls combined-dataset/training-data"
   ]
  },
  {
   "cell_type": "code",
   "execution_count": 77,
   "id": "d8633cdd",
   "metadata": {},
   "outputs": [
    {
     "data": {
      "text/plain": [
       "'1__20170620_175442_0e30__-118.40972173523741_33.94610057751408.png'"
      ]
     },
     "execution_count": 77,
     "metadata": {},
     "output_type": "execute_result"
    }
   ],
   "source": [
    "img_name_planes = os.listdir('./combined-dataset/planes/planesnet/planesnet')[0]\n",
    "img_name_planes"
   ]
  },
  {
   "cell_type": "code",
   "execution_count": 78,
   "id": "60e95c11",
   "metadata": {},
   "outputs": [
    {
     "data": {
      "text/plain": [
       "'0__20180708_180908_0f47__-118.14880745980487_33.73008948438861.png'"
      ]
     },
     "execution_count": 78,
     "metadata": {},
     "output_type": "execute_result"
    }
   ],
   "source": [
    "img_name_ships = os.listdir('./combined-dataset/ships/shipsnet/shipsnet')[0]\n",
    "img_name_ships"
   ]
  },
  {
   "cell_type": "code",
   "execution_count": 79,
   "id": "d4a40b19",
   "metadata": {},
   "outputs": [],
   "source": [
    "cwd = os.getcwd()"
   ]
  },
  {
   "cell_type": "code",
   "execution_count": 80,
   "id": "0c9ee54d",
   "metadata": {},
   "outputs": [
    {
     "name": "stdout",
     "output_type": "stream",
     "text": [
      "Images General Information\n",
      "Planes img -> size = (20, 20), format = PNG, mode = RGB\n",
      "Ships img -> size = (80, 80), format = PNG, mode = RGB\n"
     ]
    }
   ],
   "source": [
    "from PIL import Image\n",
    "\n",
    "img_planes = Image.open(f'./combined-dataset/planes/planesnet/planesnet/{img_name_planes}')\n",
    "img_ships = Image.open(f'./combined-dataset/ships/shipsnet/shipsnet/{img_name_ships}')\n",
    "\n",
    "print('Images General Information')\n",
    "print(f'Planes img -> size = {img_planes.size}, format = {img_planes.format}, mode = {img_planes.mode}')\n",
    "print(f'Ships img -> size = {img_ships.size}, format = {img_ships.format}, mode = {img_ships.mode}')"
   ]
  },
  {
   "cell_type": "markdown",
   "id": "403b9bfd",
   "metadata": {},
   "source": [
    "## Move Images to Correct Directory\n",
    "\n",
    "To properly allocate the images into the correct directories, it is important to allocate 20% of the images to the test dataset. However, it is not possible to simply take the first or last 20% of the images, since they are ordered based on their filenames. Filenames beginning with '0_' come before those with the prefix '1_'. One possible solution is to move 1 image from every 4 with the same class to the test dataset.\n",
    "\n",
    "The following table shows the number of images in the training and test datasets. It is important to note that the training dataset will be split again to create a validation dataset."
   ]
  },
  {
   "cell_type": "code",
   "execution_count": 81,
   "id": "0c22f579",
   "metadata": {},
   "outputs": [],
   "source": [
    "train_c0_idx, test_c0_idx = 1, 1\n",
    "train_c1_idx, test_c1_idx = 1, 1\n",
    "move_next_c0, move_next_c1 = False, False\n",
    "\n",
    "# Planes dataset\n",
    "for image in os.listdir('./combined-dataset/planes/planesnet/planesnet/'):\n",
    "    if image[0] == '0':\n",
    "        if move_next_c0:\n",
    "            os.rename(f'{cwd}/combined-dataset/planes/planesnet/planesnet/{image}',\n",
    "                  f'{cwd}/combined-dataset/test-data/class_0/0_image_{test_c0_idx}.png')\n",
    "            test_c0_idx += 1\n",
    "            move_next_c0 = False\n",
    "            continue\n",
    "        os.rename(f'{cwd}/combined-dataset/planes/planesnet/planesnet/{image}',\n",
    "                  f'{cwd}/combined-dataset/training-data/class_0/0_image_{train_c0_idx}.png')\n",
    "        train_c0_idx += 1\n",
    "        if train_c0_idx % 4 == 0:\n",
    "            move_next_c0 = True\n",
    "    else:\n",
    "        if move_next_c1:\n",
    "            os.rename(f'{cwd}/combined-dataset/planes/planesnet/planesnet/{image}',\n",
    "                  f'{cwd}/combined-dataset/test-data/class_1/1_image_{test_c1_idx}.png')\n",
    "            test_c1_idx += 1\n",
    "            move_next_c1 = False\n",
    "            continue\n",
    "        os.rename(f'{cwd}/combined-dataset/planes/planesnet/planesnet/{image}',\n",
    "                  f'{cwd}/combined-dataset/training-data/class_1/1_image_{train_c1_idx}.png')\n",
    "        train_c1_idx += 1\n",
    "        if train_c1_idx % 4 == 0:\n",
    "            move_next_c1 = True"
   ]
  },
  {
   "cell_type": "markdown",
   "id": "e0da3af6",
   "metadata": {},
   "source": [
    "The first dataset is conformed of 32,000 images. To check that the previous migration was done correctly, it is possible to get the number of files in all of the directories and the sum of these values should be equal to 32,000."
   ]
  },
  {
   "cell_type": "code",
   "execution_count": 82,
   "id": "dccf583d",
   "metadata": {},
   "outputs": [
    {
     "name": "stdout",
     "output_type": "stream",
     "text": [
      "Num images training-data class 0: 19200\n",
      "Num images test-data class 0: 4800\n",
      "Num images training-data class 1: 6400\n",
      "Num images test-data class 1: 1600\n"
     ]
    }
   ],
   "source": [
    "num_img_train_c0 = len(os.listdir('./combined-dataset/training-data/class_0'))\n",
    "num_img_test_c0 = len(os.listdir('./combined-dataset/test-data/class_0'))\n",
    "num_img_train_c1 = len(os.listdir('./combined-dataset/training-data/class_1'))\n",
    "num_img_test_c1 = len(os.listdir('./combined-dataset/test-data/class_1'))\n",
    "\n",
    "print(f'Num images training-data class 0: {num_img_train_c0}')\n",
    "print(f'Num images test-data class 0: {num_img_test_c0}')\n",
    "print(f'Num images training-data class 1: {num_img_train_c1}')\n",
    "print(f'Num images test-data class 1: {num_img_test_c1}')\n",
    "\n",
    "assert num_img_train_c0 + num_img_test_c0 == 24000\n",
    "assert num_img_train_c1 + num_img_test_c1 == 8000\n",
    "assert num_img_train_c0 + num_img_test_c0 + num_img_train_c1 + num_img_test_c1 == 32000"
   ]
  },
  {
   "cell_type": "markdown",
   "id": "ab0dd8b4",
   "metadata": {},
   "source": [
    "One important considerantion for the ship dataset is that all of the images that don't include a ship will be moved to the class_0 directories. Also, before moving any image it is necessary to resize it to 20x20 px. The following code is a test to resize an image."
   ]
  },
  {
   "cell_type": "code",
   "execution_count": 83,
   "id": "40105b81",
   "metadata": {},
   "outputs": [
    {
     "data": {
      "image/png": "[encoded data removed]",
      "text/plain": [
       "<PIL.PngImagePlugin.PngImageFile image mode=RGB size=80x80>"
      ]
     },
     "execution_count": 83,
     "metadata": {},
     "output_type": "execute_result"
    }
   ],
   "source": [
    "img_ships"
   ]
  },
  {
   "cell_type": "code",
   "execution_count": 84,
   "id": "0fd09123",
   "metadata": {},
   "outputs": [
    {
     "data": {
      "image/png": "[encoded data removed]",
      "text/plain": [
       "<PIL.Image.Image image mode=RGB size=20x20>"
      ]
     },
     "execution_count": 84,
     "metadata": {},
     "output_type": "execute_result"
    }
   ],
   "source": [
    "resized_image = img_ships.resize((20, 20), Image.LANCZOS)\n",
    "resized_image"
   ]
  },
  {
   "cell_type": "code",
   "execution_count": 85,
   "id": "2e0e06ce",
   "metadata": {},
   "outputs": [],
   "source": [
    "train_c2_idx, test_c2_idx = 1, 1\n",
    "move_next_c2 = False\n",
    "\n",
    "# Ships dataset\n",
    "for image in os.listdir('./combined-dataset/ships/shipsnet/shipsnet/'):\n",
    "    new_image = Image.open(f'{cwd}/combined-dataset/ships/shipsnet/shipsnet/{image}')\n",
    "    new_image = new_image.resize((20, 20), Image.LANCZOS)\n",
    "    if image[0] == '0':\n",
    "        if move_next_c0:\n",
    "            new_image.save(f'{cwd}/combined-dataset/test-data/class_0/0_image_{test_c0_idx}.png')\n",
    "            test_c0_idx += 1\n",
    "            move_next_c0 = False\n",
    "            continue\n",
    "        new_image.save(f'{cwd}/combined-dataset/training-data/class_0/0_image_{train_c0_idx}.png')\n",
    "        train_c0_idx += 1\n",
    "        if train_c0_idx % 4 == 0:\n",
    "            move_next_c0 = True\n",
    "    else:\n",
    "        if move_next_c2:\n",
    "            new_image.save(f'{cwd}/combined-dataset/test-data/class_2/2_image_{test_c2_idx}.png')\n",
    "            test_c2_idx += 1\n",
    "            move_next_c2 = False\n",
    "            continue\n",
    "        new_image.save(f'{cwd}/combined-dataset/training-data/class_2/2_image_{train_c2_idx}.png')\n",
    "        train_c2_idx += 1\n",
    "        if train_c2_idx % 4 == 0:\n",
    "            move_next_c2 = True"
   ]
  },
  {
   "cell_type": "code",
   "execution_count": 86,
   "id": "422ccd10",
   "metadata": {},
   "outputs": [
    {
     "name": "stdout",
     "output_type": "stream",
     "text": [
      "Num images training-data class 0: 21600\n",
      "Num images test-data class 0: 5400\n",
      "Num images training-data class 2: 800\n",
      "Num images test-data class 2: 200\n"
     ]
    }
   ],
   "source": [
    "num_img_train_c0 = len(os.listdir('./combined-dataset/training-data/class_0'))\n",
    "num_img_test_c0 = len(os.listdir('./combined-dataset/test-data/class_0'))\n",
    "num_img_train_c2 = len(os.listdir('./combined-dataset/training-data/class_2'))\n",
    "num_img_test_c2 = len(os.listdir('./combined-dataset/test-data/class_2'))\n",
    "\n",
    "print(f'Num images training-data class 0: {num_img_train_c0}')\n",
    "print(f'Num images test-data class 0: {num_img_test_c0}')\n",
    "print(f'Num images training-data class 2: {num_img_train_c2}')\n",
    "print(f'Num images test-data class 2: {num_img_test_c2}')"
   ]
  },
  {
   "cell_type": "code",
   "execution_count": 87,
   "id": "2a6b17b4",
   "metadata": {},
   "outputs": [],
   "source": [
    "total_num_img = num_img_train_c0 + num_img_test_c0 + num_img_train_c1 + num_img_test_c1 + num_img_train_c2 + num_img_test_c2\n",
    "assert num_img_train_c0 + num_img_test_c0 - 24000 == 3000\n",
    "assert num_img_train_c2 + num_img_test_c2 == 1000\n",
    "assert total_num_img == 36000\n"
   ]
  }
 ],
 "metadata": {
  "kernelspec": {
   "display_name": "Python 3 (ipykernel)",
   "language": "python",
   "name": "python3"
  },
  "language_info": {
   "codemirror_mode": {
    "name": "ipython",
    "version": 3
   },
   "file_extension": ".py",
   "mimetype": "text/x-python",
   "name": "python",
   "nbconvert_exporter": "python",
   "pygments_lexer": "ipython3",
   "version": "3.11.3"
  }
 },
 "nbformat": 4,
 "nbformat_minor": 5
}
